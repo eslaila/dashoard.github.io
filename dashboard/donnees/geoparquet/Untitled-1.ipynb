{
 "cells": [
  {
   "cell_type": "code",
   "execution_count": 1,
   "metadata": {},
   "outputs": [
    {
     "name": "stdout",
     "output_type": "stream",
     "text": [
      "Requirement already satisfied: streamlit in c:\\anaconda\\lib\\site-packages (1.12.0)\n",
      "Requirement already satisfied: geopandas in c:\\anaconda\\lib\\site-packages (0.12.2)\n",
      "Requirement already satisfied: pydeck>=0.1.dev5 in c:\\anaconda\\lib\\site-packages (from streamlit) (0.8.1b0)\n",
      "Requirement already satisfied: gitpython!=3.1.19 in c:\\anaconda\\lib\\site-packages (from streamlit) (3.1.40)\n",
      "Requirement already satisfied: validators>=0.2 in c:\\anaconda\\lib\\site-packages (from streamlit) (0.22.0)\n",
      "Requirement already satisfied: pyarrow>=4.0 in c:\\anaconda\\lib\\site-packages (from streamlit) (11.0.0)\n",
      "Requirement already satisfied: tornado>=5.0 in c:\\anaconda\\lib\\site-packages (from streamlit) (6.1)\n",
      "Requirement already satisfied: pandas>=0.21.0 in c:\\anaconda\\lib\\site-packages (from streamlit) (1.3.4)\n",
      "Requirement already satisfied: pillow>=6.2.0 in c:\\anaconda\\lib\\site-packages (from streamlit) (8.4.0)\n",
      "Requirement already satisfied: protobuf<4,>=3.12 in c:\\anaconda\\lib\\site-packages (from streamlit) (3.20.3)\n",
      "Requirement already satisfied: tzlocal>=1.1 in c:\\anaconda\\lib\\site-packages (from streamlit) (5.2)\n",
      "Requirement already satisfied: importlib-metadata>=1.4 in c:\\anaconda\\lib\\site-packages (from streamlit) (4.8.1)\n",
      "Requirement already satisfied: packaging>=14.1 in c:\\anaconda\\lib\\site-packages (from streamlit) (22.0)\n",
      "Requirement already satisfied: watchdog in c:\\anaconda\\lib\\site-packages (from streamlit) (2.1.3)\n",
      "Requirement already satisfied: typing-extensions>=3.10.0.0 in c:\\anaconda\\lib\\site-packages (from streamlit) (4.8.0)\n",
      "Requirement already satisfied: toml in c:\\anaconda\\lib\\site-packages (from streamlit) (0.10.2)\n",
      "Requirement already satisfied: blinker>=1.0.0 in c:\\anaconda\\lib\\site-packages (from streamlit) (1.6.2)\n",
      "Requirement already satisfied: python-dateutil in c:\\anaconda\\lib\\site-packages (from streamlit) (2.8.2)\n",
      "Requirement already satisfied: requests>=2.4 in c:\\anaconda\\lib\\site-packages (from streamlit) (2.26.0)\n",
      "Requirement already satisfied: altair>=3.2.0 in c:\\anaconda\\lib\\site-packages (from streamlit) (5.1.2)\n",
      "Requirement already satisfied: semver in c:\\anaconda\\lib\\site-packages (from streamlit) (3.0.2)\n",
      "Requirement already satisfied: rich>=10.11.0 in c:\\anaconda\\lib\\site-packages (from streamlit) (13.7.0)\n",
      "Requirement already satisfied: cachetools>=4.0 in c:\\anaconda\\lib\\site-packages (from streamlit) (5.3.0)\n",
      "Requirement already satisfied: pympler>=0.9 in c:\\anaconda\\lib\\site-packages (from streamlit) (1.0.1)\n",
      "Requirement already satisfied: numpy in c:\\anaconda\\lib\\site-packages (from streamlit) (1.22.4)\n",
      "Requirement already satisfied: click>=7.0 in c:\\anaconda\\lib\\site-packages (from streamlit) (8.1.7)\n",
      "Requirement already satisfied: shapely>=1.7 in c:\\anaconda\\lib\\site-packages (from geopandas) (2.0.1)\n",
      "Requirement already satisfied: fiona>=1.8 in c:\\anaconda\\lib\\site-packages (from geopandas) (1.9.3)\n",
      "Requirement already satisfied: pyproj>=2.6.1.post1 in c:\\anaconda\\lib\\site-packages (from geopandas) (3.5.0)\n",
      "Requirement already satisfied: jsonschema>=3.0 in c:\\anaconda\\lib\\site-packages (from altair>=3.2.0->streamlit) (3.2.0)\n",
      "Requirement already satisfied: jinja2 in c:\\anaconda\\lib\\site-packages (from altair>=3.2.0->streamlit) (3.1.2)\n",
      "Requirement already satisfied: toolz in c:\\anaconda\\lib\\site-packages (from altair>=3.2.0->streamlit) (0.11.1)\n",
      "Requirement already satisfied: colorama in c:\\anaconda\\lib\\site-packages (from click>=7.0->streamlit) (0.4.4)\n",
      "Requirement already satisfied: click-plugins>=1.0 in c:\\anaconda\\lib\\site-packages (from fiona>=1.8->geopandas) (1.1.1)\n",
      "Requirement already satisfied: attrs>=19.2.0 in c:\\anaconda\\lib\\site-packages (from fiona>=1.8->geopandas) (21.2.0)\n",
      "Requirement already satisfied: certifi in c:\\anaconda\\lib\\site-packages (from fiona>=1.8->geopandas) (2022.12.7)\n",
      "Requirement already satisfied: cligj>=0.5 in c:\\anaconda\\lib\\site-packages (from fiona>=1.8->geopandas) (0.7.2)\n",
      "Requirement already satisfied: munch>=2.3.2 in c:\\anaconda\\lib\\site-packages (from fiona>=1.8->geopandas) (2.5.0)\n",
      "Requirement already satisfied: gitdb<5,>=4.0.1 in c:\\anaconda\\lib\\site-packages (from gitpython!=3.1.19->streamlit) (4.0.11)\n",
      "Requirement already satisfied: smmap<6,>=3.0.1 in c:\\anaconda\\lib\\site-packages (from gitdb<5,>=4.0.1->gitpython!=3.1.19->streamlit) (5.0.1)\n",
      "Requirement already satisfied: zipp>=0.5 in c:\\anaconda\\lib\\site-packages (from importlib-metadata>=1.4->streamlit) (3.6.0)\n",
      "Requirement already satisfied: six>=1.11.0 in c:\\anaconda\\lib\\site-packages (from jsonschema>=3.0->altair>=3.2.0->streamlit) (1.16.0)\n",
      "Requirement already satisfied: pyrsistent>=0.14.0 in c:\\anaconda\\lib\\site-packages (from jsonschema>=3.0->altair>=3.2.0->streamlit) (0.18.0)\n",
      "Requirement already satisfied: setuptools in c:\\anaconda\\lib\\site-packages (from jsonschema>=3.0->altair>=3.2.0->streamlit) (58.0.4)\n",
      "Requirement already satisfied: pytz>=2017.3 in c:\\anaconda\\lib\\site-packages (from pandas>=0.21.0->streamlit) (2021.3)\n",
      "Requirement already satisfied: MarkupSafe>=2.0 in c:\\anaconda\\lib\\site-packages (from jinja2->altair>=3.2.0->streamlit) (2.1.3)\n",
      "Requirement already satisfied: urllib3<1.27,>=1.21.1 in c:\\anaconda\\lib\\site-packages (from requests>=2.4->streamlit) (1.26.7)\n",
      "Requirement already satisfied: charset-normalizer~=2.0.0 in c:\\anaconda\\lib\\site-packages (from requests>=2.4->streamlit) (2.0.4)\n",
      "Requirement already satisfied: idna<4,>=2.5 in c:\\anaconda\\lib\\site-packages (from requests>=2.4->streamlit) (3.2)\n",
      "Requirement already satisfied: pygments<3.0.0,>=2.13.0 in c:\\anaconda\\lib\\site-packages (from rich>=10.11.0->streamlit) (2.16.1)\n",
      "Requirement already satisfied: markdown-it-py>=2.2.0 in c:\\anaconda\\lib\\site-packages (from rich>=10.11.0->streamlit) (3.0.0)\n",
      "Requirement already satisfied: mdurl~=0.1 in c:\\anaconda\\lib\\site-packages (from markdown-it-py>=2.2.0->rich>=10.11.0->streamlit) (0.1.2)\n",
      "Requirement already satisfied: tzdata in c:\\anaconda\\lib\\site-packages (from tzlocal>=1.1->streamlit) (2023.3)\n",
      "Requirement already satisfied: geopandas in c:\\anaconda\\lib\\site-packages (0.12.2)\n",
      "Requirement already satisfied: fiona>=1.8 in c:\\anaconda\\lib\\site-packages (from geopandas) (1.9.3)\n",
      "Requirement already satisfied: pyproj>=2.6.1.post1 in c:\\anaconda\\lib\\site-packages (from geopandas) (3.5.0)\n",
      "Requirement already satisfied: shapely>=1.7 in c:\\anaconda\\lib\\site-packages (from geopandas) (2.0.1)\n",
      "Requirement already satisfied: packaging in c:\\anaconda\\lib\\site-packages (from geopandas) (22.0)\n",
      "Requirement already satisfied: pandas>=1.0.0 in c:\\anaconda\\lib\\site-packages (from geopandas) (1.3.4)\n",
      "Requirement already satisfied: munch>=2.3.2 in c:\\anaconda\\lib\\site-packages (from fiona>=1.8->geopandas) (2.5.0)\n",
      "Requirement already satisfied: importlib-metadata in c:\\anaconda\\lib\\site-packages (from fiona>=1.8->geopandas) (4.8.1)\n",
      "Requirement already satisfied: certifi in c:\\anaconda\\lib\\site-packages (from fiona>=1.8->geopandas) (2022.12.7)\n",
      "Requirement already satisfied: click~=8.0 in c:\\anaconda\\lib\\site-packages (from fiona>=1.8->geopandas) (8.1.7)\n",
      "Requirement already satisfied: click-plugins>=1.0 in c:\\anaconda\\lib\\site-packages (from fiona>=1.8->geopandas) (1.1.1)\n",
      "Requirement already satisfied: cligj>=0.5 in c:\\anaconda\\lib\\site-packages (from fiona>=1.8->geopandas) (0.7.2)\n",
      "Requirement already satisfied: attrs>=19.2.0 in c:\\anaconda\\lib\\site-packages (from fiona>=1.8->geopandas) (21.2.0)\n",
      "Requirement already satisfied: colorama in c:\\anaconda\\lib\\site-packages (from click~=8.0->fiona>=1.8->geopandas) (0.4.4)\n",
      "Requirement already satisfied: six in c:\\anaconda\\lib\\site-packages (from munch>=2.3.2->fiona>=1.8->geopandas) (1.16.0)\n",
      "Requirement already satisfied: pytz>=2017.3 in c:\\anaconda\\lib\\site-packages (from pandas>=1.0.0->geopandas) (2021.3)\n",
      "Requirement already satisfied: python-dateutil>=2.7.3 in c:\\anaconda\\lib\\site-packages (from pandas>=1.0.0->geopandas) (2.8.2)\n",
      "Requirement already satisfied: numpy>=1.17.3 in c:\\anaconda\\lib\\site-packages (from pandas>=1.0.0->geopandas) (1.22.4)\n",
      "Requirement already satisfied: zipp>=0.5 in c:\\anaconda\\lib\\site-packages (from importlib-metadata->fiona>=1.8->geopandas) (3.6.0)\n"
     ]
    }
   ],
   "source": [
    "!pip install streamlit geopandas\n",
    "!pip install geopandas"
   ]
  },
  {
   "cell_type": "code",
   "execution_count": 7,
   "metadata": {},
   "outputs": [
    {
     "name": "stdout",
     "output_type": "stream",
     "text": [
      "Requirement already satisfied: streamlit in c:\\anaconda\\lib\\site-packages (1.12.0)\n",
      "Requirement already satisfied: altair in c:\\anaconda\\lib\\site-packages (5.1.2)\n",
      "Requirement already satisfied: validators>=0.2 in c:\\anaconda\\lib\\site-packages (from streamlit) (0.22.0)\n",
      "Requirement already satisfied: click>=7.0 in c:\\anaconda\\lib\\site-packages (from streamlit) (8.1.7)\n",
      "Requirement already satisfied: tornado>=5.0 in c:\\anaconda\\lib\\site-packages (from streamlit) (6.1)\n",
      "Requirement already satisfied: cachetools>=4.0 in c:\\anaconda\\lib\\site-packages (from streamlit) (5.3.0)\n",
      "Requirement already satisfied: semver in c:\\anaconda\\lib\\site-packages (from streamlit) (3.0.2)\n",
      "Requirement already satisfied: watchdog in c:\\anaconda\\lib\\site-packages (from streamlit) (2.1.3)\n",
      "Requirement already satisfied: pandas>=0.21.0 in c:\\anaconda\\lib\\site-packages (from streamlit) (1.3.4)\n",
      "Requirement already satisfied: blinker>=1.0.0 in c:\\anaconda\\lib\\site-packages (from streamlit) (1.6.2)\n",
      "Requirement already satisfied: gitpython!=3.1.19 in c:\\anaconda\\lib\\site-packages (from streamlit) (3.1.40)\n",
      "Requirement already satisfied: pillow>=6.2.0 in c:\\anaconda\\lib\\site-packages (from streamlit) (8.4.0)\n",
      "Requirement already satisfied: pydeck>=0.1.dev5 in c:\\anaconda\\lib\\site-packages (from streamlit) (0.8.1b0)\n",
      "Requirement already satisfied: importlib-metadata>=1.4 in c:\\anaconda\\lib\\site-packages (from streamlit) (4.8.1)\n",
      "Requirement already satisfied: python-dateutil in c:\\anaconda\\lib\\site-packages (from streamlit) (2.8.2)\n",
      "Requirement already satisfied: typing-extensions>=3.10.0.0 in c:\\anaconda\\lib\\site-packages (from streamlit) (4.8.0)\n",
      "Requirement already satisfied: pympler>=0.9 in c:\\anaconda\\lib\\site-packages (from streamlit) (1.0.1)\n",
      "Requirement already satisfied: pyarrow>=4.0 in c:\\anaconda\\lib\\site-packages (from streamlit) (11.0.0)\n",
      "Requirement already satisfied: packaging>=14.1 in c:\\anaconda\\lib\\site-packages (from streamlit) (22.0)\n",
      "Requirement already satisfied: numpy in c:\\anaconda\\lib\\site-packages (from streamlit) (1.22.4)\n",
      "Requirement already satisfied: protobuf<4,>=3.12 in c:\\anaconda\\lib\\site-packages (from streamlit) (3.20.3)\n",
      "Requirement already satisfied: requests>=2.4 in c:\\anaconda\\lib\\site-packages (from streamlit) (2.26.0)\n",
      "Requirement already satisfied: toml in c:\\anaconda\\lib\\site-packages (from streamlit) (0.10.2)\n",
      "Requirement already satisfied: rich>=10.11.0 in c:\\anaconda\\lib\\site-packages (from streamlit) (13.7.0)\n",
      "Requirement already satisfied: tzlocal>=1.1 in c:\\anaconda\\lib\\site-packages (from streamlit) (5.2)\n",
      "Requirement already satisfied: toolz in c:\\anaconda\\lib\\site-packages (from altair) (0.11.1)\n",
      "Requirement already satisfied: jinja2 in c:\\anaconda\\lib\\site-packages (from altair) (3.1.2)\n",
      "Requirement already satisfied: jsonschema>=3.0 in c:\\anaconda\\lib\\site-packages (from altair) (3.2.0)\n",
      "Requirement already satisfied: colorama in c:\\anaconda\\lib\\site-packages (from click>=7.0->streamlit) (0.4.4)\n",
      "Requirement already satisfied: gitdb<5,>=4.0.1 in c:\\anaconda\\lib\\site-packages (from gitpython!=3.1.19->streamlit) (4.0.11)\n",
      "Requirement already satisfied: smmap<6,>=3.0.1 in c:\\anaconda\\lib\\site-packages (from gitdb<5,>=4.0.1->gitpython!=3.1.19->streamlit) (5.0.1)\n",
      "Requirement already satisfied: zipp>=0.5 in c:\\anaconda\\lib\\site-packages (from importlib-metadata>=1.4->streamlit) (3.6.0)\n",
      "Requirement already satisfied: setuptools in c:\\anaconda\\lib\\site-packages (from jsonschema>=3.0->altair) (58.0.4)\n",
      "Requirement already satisfied: pyrsistent>=0.14.0 in c:\\anaconda\\lib\\site-packages (from jsonschema>=3.0->altair) (0.18.0)\n",
      "Requirement already satisfied: six>=1.11.0 in c:\\anaconda\\lib\\site-packages (from jsonschema>=3.0->altair) (1.16.0)\n",
      "Requirement already satisfied: attrs>=17.4.0 in c:\\anaconda\\lib\\site-packages (from jsonschema>=3.0->altair) (21.2.0)\n",
      "Requirement already satisfied: pytz>=2017.3 in c:\\anaconda\\lib\\site-packages (from pandas>=0.21.0->streamlit) (2021.3)\n",
      "Requirement already satisfied: MarkupSafe>=2.0 in c:\\anaconda\\lib\\site-packages (from jinja2->altair) (2.1.3)\n",
      "Requirement already satisfied: certifi>=2017.4.17 in c:\\anaconda\\lib\\site-packages (from requests>=2.4->streamlit) (2022.12.7)\n",
      "Requirement already satisfied: charset-normalizer~=2.0.0 in c:\\anaconda\\lib\\site-packages (from requests>=2.4->streamlit) (2.0.4)\n",
      "Requirement already satisfied: urllib3<1.27,>=1.21.1 in c:\\anaconda\\lib\\site-packages (from requests>=2.4->streamlit) (1.26.7)\n",
      "Requirement already satisfied: idna<4,>=2.5 in c:\\anaconda\\lib\\site-packages (from requests>=2.4->streamlit) (3.2)\n",
      "Requirement already satisfied: markdown-it-py>=2.2.0 in c:\\anaconda\\lib\\site-packages (from rich>=10.11.0->streamlit) (3.0.0)\n",
      "Requirement already satisfied: pygments<3.0.0,>=2.13.0 in c:\\anaconda\\lib\\site-packages (from rich>=10.11.0->streamlit) (2.16.1)\n",
      "Requirement already satisfied: mdurl~=0.1 in c:\\anaconda\\lib\\site-packages (from markdown-it-py>=2.2.0->rich>=10.11.0->streamlit) (0.1.2)\n",
      "Requirement already satisfied: tzdata in c:\\anaconda\\lib\\site-packages (from tzlocal>=1.1->streamlit) (2023.3)\n"
     ]
    }
   ],
   "source": [
    "!pip install --upgrade streamlit altair"
   ]
  },
  {
   "cell_type": "code",
   "execution_count": 11,
   "metadata": {},
   "outputs": [
    {
     "name": "stdout",
     "output_type": "stream",
     "text": [
      "Requirement already satisfied: altair in c:\\anaconda\\lib\\site-packages (5.1.2)\n",
      "Requirement already satisfied: numpy in c:\\anaconda\\lib\\site-packages (from altair) (1.22.4)\n",
      "Requirement already satisfied: toolz in c:\\anaconda\\lib\\site-packages (from altair) (0.11.1)\n",
      "Requirement already satisfied: packaging in c:\\anaconda\\lib\\site-packages (from altair) (22.0)\n",
      "Requirement already satisfied: jsonschema>=3.0 in c:\\anaconda\\lib\\site-packages (from altair) (3.2.0)\n",
      "Requirement already satisfied: pandas>=0.25 in c:\\anaconda\\lib\\site-packages (from altair) (1.3.4)\n",
      "Requirement already satisfied: typing-extensions>=4.0.1 in c:\\anaconda\\lib\\site-packages (from altair) (4.8.0)\n",
      "Requirement already satisfied: jinja2 in c:\\anaconda\\lib\\site-packages (from altair) (3.1.2)\n",
      "Requirement already satisfied: pyrsistent>=0.14.0 in c:\\anaconda\\lib\\site-packages (from jsonschema>=3.0->altair) (0.18.0)\n",
      "Requirement already satisfied: six>=1.11.0 in c:\\anaconda\\lib\\site-packages (from jsonschema>=3.0->altair) (1.16.0)\n",
      "Requirement already satisfied: setuptools in c:\\anaconda\\lib\\site-packages (from jsonschema>=3.0->altair) (58.0.4)\n",
      "Requirement already satisfied: attrs>=17.4.0 in c:\\anaconda\\lib\\site-packages (from jsonschema>=3.0->altair) (21.2.0)\n",
      "Requirement already satisfied: python-dateutil>=2.7.3 in c:\\anaconda\\lib\\site-packages (from pandas>=0.25->altair) (2.8.2)\n",
      "Requirement already satisfied: pytz>=2017.3 in c:\\anaconda\\lib\\site-packages (from pandas>=0.25->altair) (2021.3)\n",
      "Requirement already satisfied: MarkupSafe>=2.0 in c:\\anaconda\\lib\\site-packages (from jinja2->altair) (2.1.3)\n"
     ]
    }
   ],
   "source": [
    "!pip install altair"
   ]
  },
  {
   "cell_type": "code",
   "execution_count": 9,
   "metadata": {},
   "outputs": [
    {
     "name": "stdout",
     "output_type": "stream",
     "text": [
      "Overwriting app.py\n"
     ]
    }
   ],
   "source": [
    "%%writefile app.py\n",
    "import streamlit as st\n",
    "import geopandas as gpd\n",
    "\n",
    "# Titre de l'application Streamlit\n",
    "st.title(\"Visualisation des données GeoParquet\")\n",
    "\n",
    "# Charger les données GeoParquet\n",
    "path_to_output_geoparquet = \"OUTPUT1000.geoparquet\"  # Mettez ici le chemin absolu vers votre fichier\n",
    "data = gpd.read_parquet(path_to_output_geoparquet)\n",
    "\n",
    "# Afficher les données géographiques\n",
    "st.map(data)\n"
   ]
  },
  {
   "cell_type": "code",
   "execution_count": 12,
   "metadata": {},
   "outputs": [
    {
     "name": "stderr",
     "output_type": "stream",
     "text": [
      "2023-11-17 21:51:55.049 INFO    numexpr.utils: NumExpr defaulting to 4 threads.\n",
      "Traceback (most recent call last):\n",
      "  File \"C:\\anaconda\\lib\\runpy.py\", line 197, in _run_module_as_main\n",
      "    return _run_code(code, main_globals, None,\n",
      "  File \"C:\\anaconda\\lib\\runpy.py\", line 87, in _run_code\n",
      "    exec(code, run_globals)\n",
      "  File \"C:\\anaconda\\Scripts\\streamlit.exe\\__main__.py\", line 4, in <module>\n",
      "  File \"C:\\anaconda\\lib\\site-packages\\streamlit\\__init__.py\", line 70, in <module>\n",
      "    from streamlit.delta_generator import DeltaGenerator as _DeltaGenerator\n",
      "  File \"C:\\anaconda\\lib\\site-packages\\streamlit\\delta_generator.py\", line 90, in <module>\n",
      "    from streamlit.elements.arrow_altair import ArrowAltairMixin\n",
      "  File \"C:\\anaconda\\lib\\site-packages\\streamlit\\elements\\arrow_altair.py\", line 35, in <module>\n",
      "    from altair.vegalite.v4.api import Chart\n",
      "ModuleNotFoundError: No module named 'altair.vegalite.v4'\n"
     ]
    }
   ],
   "source": [
    "!streamlit run app.py\n"
   ]
  }
 ],
 "metadata": {
  "kernelspec": {
   "display_name": "base",
   "language": "python",
   "name": "python3"
  },
  "language_info": {
   "codemirror_mode": {
    "name": "ipython",
    "version": 3
   },
   "file_extension": ".py",
   "mimetype": "text/x-python",
   "name": "python",
   "nbconvert_exporter": "python",
   "pygments_lexer": "ipython3",
   "version": "3.9.7"
  }
 },
 "nbformat": 4,
 "nbformat_minor": 2
}
